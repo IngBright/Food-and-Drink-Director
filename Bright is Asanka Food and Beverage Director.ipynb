{
 "cells": [
  {
   "cell_type": "code",
   "execution_count": 1,
   "metadata": {},
   "outputs": [],
   "source": [
    "#user should enter the charge of the food\n",
    "charge_of_food = float(input('Please enter the charge of the food: '))"
   ]
  },
  {
   "cell_type": "code",
   "execution_count": 2,
   "metadata": {},
   "outputs": [],
   "source": [
    "#18% tip and 7% sales tax and display \n",
    "tip = 0.18 * charge_of_food \n",
    "sales_tax = 0.07 * charge_of_food\n"
   ]
  },
  {
   "cell_type": "code",
   "execution_count": 3,
   "metadata": {},
   "outputs": [],
   "source": [
    "#add everything together and display charge, tip and tax\n",
    "total_charge = charge_of_food + tip + sales_tax\n"
   ]
  },
  {
   "cell_type": "code",
   "execution_count": 4,
   "metadata": {},
   "outputs": [
    {
     "name": "stdout",
     "output_type": "stream",
     "text": [
      "Your tip for the food is $ 14.40\n",
      "Your sales tax for the food is $ 5.60\n",
      "The total charge for the food is $ 100.00\n",
      "Thank you for eating here!\n"
     ]
    }
   ],
   "source": [
    "#print\n",
    "print(f'Your tip for the food is ${tip: .2f}')\n",
    "print(f'Your sales tax for the food is ${sales_tax: .2f}')\n",
    "print(f'The total charge for the food is ${total_charge: .2f}')\n",
    "\n",
    "print('Thank you for eating here!')"
   ]
  },
  {
   "cell_type": "code",
   "execution_count": null,
   "metadata": {},
   "outputs": [],
   "source": []
  }
 ],
 "metadata": {
  "kernelspec": {
   "display_name": "Python 3",
   "language": "python",
   "name": "python3"
  },
  "language_info": {
   "codemirror_mode": {
    "name": "ipython",
    "version": 3
   },
   "file_extension": ".py",
   "mimetype": "text/x-python",
   "name": "python",
   "nbconvert_exporter": "python",
   "pygments_lexer": "ipython3",
   "version": "3.11.3"
  },
  "orig_nbformat": 4
 },
 "nbformat": 4,
 "nbformat_minor": 2
}
